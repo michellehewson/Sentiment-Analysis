{
 "cells": [
  {
   "cell_type": "markdown",
   "metadata": {},
   "source": [
    "# Sentiment Analysis Exploration"
   ]
  },
  {
   "cell_type": "code",
   "execution_count": 1,
   "metadata": {},
   "outputs": [],
   "source": [
    "import pandas as pd\n",
    "import numpy as np\n",
    "import matplotlib.pyplot as plt \n",
    "import seaborn as sns          \n",
    "import re \n",
    "import tensorflow as tf\n",
    "import keras\n",
    "\n",
    "from keras.models import Sequential\n",
    "from keras.layers import Dense, Embedding, LSTM, SpatialDropout1D\n",
    "from keras.preprocessing.sequence import pad_sequences"
   ]
  },
  {
   "cell_type": "code",
   "execution_count": 2,
   "metadata": {},
   "outputs": [
    {
     "data": {
      "text/html": [
       "<div>\n",
       "<style scoped>\n",
       "    .dataframe tbody tr th:only-of-type {\n",
       "        vertical-align: middle;\n",
       "    }\n",
       "\n",
       "    .dataframe tbody tr th {\n",
       "        vertical-align: top;\n",
       "    }\n",
       "\n",
       "    .dataframe thead th {\n",
       "        text-align: right;\n",
       "    }\n",
       "</style>\n",
       "<table border=\"1\" class=\"dataframe\">\n",
       "  <thead>\n",
       "    <tr style=\"text-align: right;\">\n",
       "      <th></th>\n",
       "      <th>Text, Sentiment, Source, Date/Time, User ID, Location, Confidence Score</th>\n",
       "    </tr>\n",
       "  </thead>\n",
       "  <tbody>\n",
       "    <tr>\n",
       "      <th>0</th>\n",
       "      <td>\"I love this product!\", Positive, Twitter, 202...</td>\n",
       "    </tr>\n",
       "    <tr>\n",
       "      <th>1</th>\n",
       "      <td>\"The service was terrible.\", Negative, Yelp Re...</td>\n",
       "    </tr>\n",
       "    <tr>\n",
       "      <th>2</th>\n",
       "      <td>\"This movie is amazing!\", Positive, IMDb, 2023...</td>\n",
       "    </tr>\n",
       "    <tr>\n",
       "      <th>3</th>\n",
       "      <td>\"I'm so disappointed with their customer suppo...</td>\n",
       "    </tr>\n",
       "    <tr>\n",
       "      <th>4</th>\n",
       "      <td>\"Just had the best meal of my life!\", Positive...</td>\n",
       "    </tr>\n",
       "  </tbody>\n",
       "</table>\n",
       "</div>"
      ],
      "text/plain": [
       "  Text, Sentiment, Source, Date/Time, User ID, Location, Confidence Score\n",
       "0  \"I love this product!\", Positive, Twitter, 202...                     \n",
       "1  \"The service was terrible.\", Negative, Yelp Re...                     \n",
       "2  \"This movie is amazing!\", Positive, IMDb, 2023...                     \n",
       "3  \"I'm so disappointed with their customer suppo...                     \n",
       "4  \"Just had the best meal of my life!\", Positive...                     "
      ]
     },
     "execution_count": 2,
     "metadata": {},
     "output_type": "execute_result"
    }
   ],
   "source": [
    "data = pd.read_csv('data/sentiment-analysis.csv')\n",
    "data.head()"
   ]
  },
  {
   "cell_type": "code",
   "execution_count": 3,
   "metadata": {},
   "outputs": [
    {
     "data": {
      "text/plain": [
       "Text, Sentiment, Source, Date/Time, User ID, Location, Confidence Score\n",
       "False                                                                      96\n",
       "True                                                                        2\n",
       "Name: count, dtype: int64"
      ]
     },
     "metadata": {},
     "output_type": "display_data"
    }
   ],
   "source": [
    "display(data.isna().value_counts())\n",
    "data = data.dropna()"
   ]
  },
  {
   "cell_type": "code",
   "execution_count": 4,
   "metadata": {},
   "outputs": [
    {
     "data": {
      "text/plain": [
       "['Text',\n",
       " 'Sentiment',\n",
       " 'Source',\n",
       " 'Date/Time',\n",
       " 'UserID',\n",
       " 'Location',\n",
       " 'ConfidenceScore']"
      ]
     },
     "execution_count": 4,
     "metadata": {},
     "output_type": "execute_result"
    }
   ],
   "source": [
    "column_names = [header.replace(' ', '') for header in data.columns[0].split(',')]\n",
    "column_names"
   ]
  },
  {
   "cell_type": "code",
   "execution_count": 5,
   "metadata": {},
   "outputs": [
    {
     "data": {
      "text/html": [
       "<div>\n",
       "<style scoped>\n",
       "    .dataframe tbody tr th:only-of-type {\n",
       "        vertical-align: middle;\n",
       "    }\n",
       "\n",
       "    .dataframe tbody tr th {\n",
       "        vertical-align: top;\n",
       "    }\n",
       "\n",
       "    .dataframe thead th {\n",
       "        text-align: right;\n",
       "    }\n",
       "</style>\n",
       "<table border=\"1\" class=\"dataframe\">\n",
       "  <thead>\n",
       "    <tr style=\"text-align: right;\">\n",
       "      <th></th>\n",
       "      <th>Text</th>\n",
       "      <th>Sentiment</th>\n",
       "      <th>Source</th>\n",
       "      <th>Date/Time</th>\n",
       "      <th>UserID</th>\n",
       "      <th>Location</th>\n",
       "      <th>ConfidenceScore</th>\n",
       "    </tr>\n",
       "  </thead>\n",
       "  <tbody>\n",
       "  </tbody>\n",
       "</table>\n",
       "</div>"
      ],
      "text/plain": [
       "Empty DataFrame\n",
       "Columns: [Text, Sentiment, Source, Date/Time, UserID, Location, ConfidenceScore]\n",
       "Index: []"
      ]
     },
     "execution_count": 5,
     "metadata": {},
     "output_type": "execute_result"
    }
   ],
   "source": [
    "df = pd.DataFrame(columns=column_names)\n",
    "df"
   ]
  },
  {
   "cell_type": "code",
   "execution_count": 6,
   "metadata": {},
   "outputs": [
    {
     "data": {
      "text/html": [
       "<div>\n",
       "<style scoped>\n",
       "    .dataframe tbody tr th:only-of-type {\n",
       "        vertical-align: middle;\n",
       "    }\n",
       "\n",
       "    .dataframe tbody tr th {\n",
       "        vertical-align: top;\n",
       "    }\n",
       "\n",
       "    .dataframe thead th {\n",
       "        text-align: right;\n",
       "    }\n",
       "</style>\n",
       "<table border=\"1\" class=\"dataframe\">\n",
       "  <thead>\n",
       "    <tr style=\"text-align: right;\">\n",
       "      <th></th>\n",
       "      <th>Text, Sentiment, Source, Date/Time, User ID, Location, Confidence Score</th>\n",
       "    </tr>\n",
       "  </thead>\n",
       "  <tbody>\n",
       "    <tr>\n",
       "      <th>0</th>\n",
       "      <td>\"I love this product!\", Positive, Twitter, 202...</td>\n",
       "    </tr>\n",
       "    <tr>\n",
       "      <th>1</th>\n",
       "      <td>\"The service was terrible.\", Negative, Yelp Re...</td>\n",
       "    </tr>\n",
       "    <tr>\n",
       "      <th>2</th>\n",
       "      <td>\"This movie is amazing!\", Positive, IMDb, 2023...</td>\n",
       "    </tr>\n",
       "    <tr>\n",
       "      <th>3</th>\n",
       "      <td>\"I'm so disappointed with their customer suppo...</td>\n",
       "    </tr>\n",
       "    <tr>\n",
       "      <th>4</th>\n",
       "      <td>\"Just had the best meal of my life!\", Positive...</td>\n",
       "    </tr>\n",
       "    <tr>\n",
       "      <th>...</th>\n",
       "      <td>...</td>\n",
       "    </tr>\n",
       "    <tr>\n",
       "      <th>91</th>\n",
       "      <td>\"Just had the most amazing vacation! I can't w...</td>\n",
       "    </tr>\n",
       "    <tr>\n",
       "      <th>92</th>\n",
       "      <td>\"The food at this restaurant was awful. Never ...</td>\n",
       "    </tr>\n",
       "    <tr>\n",
       "      <th>93</th>\n",
       "      <td>\"I can't stop listening to this song. It's my ...</td>\n",
       "    </tr>\n",
       "    <tr>\n",
       "      <th>94</th>\n",
       "      <td>\"Their website is so confusing and poorly desi...</td>\n",
       "    </tr>\n",
       "    <tr>\n",
       "      <th>95</th>\n",
       "      <td>\"I had an incredible experience at the theme p...</td>\n",
       "    </tr>\n",
       "  </tbody>\n",
       "</table>\n",
       "<p>96 rows × 1 columns</p>\n",
       "</div>"
      ],
      "text/plain": [
       "   Text, Sentiment, Source, Date/Time, User ID, Location, Confidence Score\n",
       "0   \"I love this product!\", Positive, Twitter, 202...                     \n",
       "1   \"The service was terrible.\", Negative, Yelp Re...                     \n",
       "2   \"This movie is amazing!\", Positive, IMDb, 2023...                     \n",
       "3   \"I'm so disappointed with their customer suppo...                     \n",
       "4   \"Just had the best meal of my life!\", Positive...                     \n",
       "..                                                ...                     \n",
       "91  \"Just had the most amazing vacation! I can't w...                     \n",
       "92  \"The food at this restaurant was awful. Never ...                     \n",
       "93  \"I can't stop listening to this song. It's my ...                     \n",
       "94  \"Their website is so confusing and poorly desi...                     \n",
       "95  \"I had an incredible experience at the theme p...                     \n",
       "\n",
       "[96 rows x 1 columns]"
      ]
     },
     "execution_count": 6,
     "metadata": {},
     "output_type": "execute_result"
    }
   ],
   "source": [
    "data"
   ]
  },
  {
   "cell_type": "code",
   "execution_count": 7,
   "metadata": {},
   "outputs": [],
   "source": [
    "row_values = [row.iloc[0].split(',') for _, row in data.iterrows()]"
   ]
  },
  {
   "cell_type": "code",
   "execution_count": 8,
   "metadata": {},
   "outputs": [],
   "source": [
    "for row in range(0, len(row_values)):\n",
    "    for ind, col_name in enumerate(column_names):\n",
    "        df.at[row, col_name] = (row_values[row][ind]).lstrip()"
   ]
  },
  {
   "cell_type": "code",
   "execution_count": 9,
   "metadata": {},
   "outputs": [],
   "source": [
    "df[['Date', 'Time']] = df['Date/Time'].str.split(' ', expand=True)\n",
    "df.drop(['Date/Time'], axis=1, inplace=True)\n",
    "df['ConfidenceScore'] = df['ConfidenceScore'].astype(float)\n",
    "df['Date'] = pd.to_datetime(df['Date'])"
   ]
  },
  {
   "cell_type": "code",
   "execution_count": 10,
   "metadata": {},
   "outputs": [
    {
     "name": "stdout",
     "output_type": "stream",
     "text": [
      "<class 'pandas.core.frame.DataFrame'>\n",
      "Index: 96 entries, 0 to 95\n",
      "Data columns (total 8 columns):\n",
      " #   Column           Non-Null Count  Dtype         \n",
      "---  ------           --------------  -----         \n",
      " 0   Text             96 non-null     object        \n",
      " 1   Sentiment        96 non-null     object        \n",
      " 2   Source           96 non-null     object        \n",
      " 3   UserID           96 non-null     object        \n",
      " 4   Location         96 non-null     object        \n",
      " 5   ConfidenceScore  96 non-null     float64       \n",
      " 6   Date             96 non-null     datetime64[ns]\n",
      " 7   Time             96 non-null     object        \n",
      "dtypes: datetime64[ns](1), float64(1), object(6)\n",
      "memory usage: 8.8+ KB\n"
     ]
    }
   ],
   "source": [
    "df.info()"
   ]
  },
  {
   "cell_type": "code",
   "execution_count": 15,
   "metadata": {},
   "outputs": [
    {
     "data": {
      "text/html": [
       "<div>\n",
       "<style scoped>\n",
       "    .dataframe tbody tr th:only-of-type {\n",
       "        vertical-align: middle;\n",
       "    }\n",
       "\n",
       "    .dataframe tbody tr th {\n",
       "        vertical-align: top;\n",
       "    }\n",
       "\n",
       "    .dataframe thead th {\n",
       "        text-align: right;\n",
       "    }\n",
       "</style>\n",
       "<table border=\"1\" class=\"dataframe\">\n",
       "  <thead>\n",
       "    <tr style=\"text-align: right;\">\n",
       "      <th></th>\n",
       "      <th>Text</th>\n",
       "      <th>Sentiment</th>\n",
       "      <th>Source</th>\n",
       "      <th>UserID</th>\n",
       "      <th>Location</th>\n",
       "      <th>ConfidenceScore</th>\n",
       "      <th>Date</th>\n",
       "      <th>Time</th>\n",
       "    </tr>\n",
       "  </thead>\n",
       "  <tbody>\n",
       "    <tr>\n",
       "      <th>0</th>\n",
       "      <td>\"I love this product!\"</td>\n",
       "      <td>Positive</td>\n",
       "      <td>Twitter</td>\n",
       "      <td>@user123</td>\n",
       "      <td>New York</td>\n",
       "      <td>0.85</td>\n",
       "      <td>2023-06-15</td>\n",
       "      <td>09:23:14</td>\n",
       "    </tr>\n",
       "    <tr>\n",
       "      <th>1</th>\n",
       "      <td>\"The service was terrible.\"</td>\n",
       "      <td>Negative</td>\n",
       "      <td>Yelp Reviews</td>\n",
       "      <td>user456</td>\n",
       "      <td>Los Angeles</td>\n",
       "      <td>0.65</td>\n",
       "      <td>2023-06-15</td>\n",
       "      <td>11:45:32</td>\n",
       "    </tr>\n",
       "    <tr>\n",
       "      <th>2</th>\n",
       "      <td>\"This movie is amazing!\"</td>\n",
       "      <td>Positive</td>\n",
       "      <td>IMDb</td>\n",
       "      <td>moviefan789</td>\n",
       "      <td>London</td>\n",
       "      <td>0.92</td>\n",
       "      <td>2023-06-15</td>\n",
       "      <td>14:10:22</td>\n",
       "    </tr>\n",
       "    <tr>\n",
       "      <th>3</th>\n",
       "      <td>\"I'm so disappointed with their customer suppo...</td>\n",
       "      <td>Negative</td>\n",
       "      <td>Online Forum</td>\n",
       "      <td>forumuser1</td>\n",
       "      <td>Toronto</td>\n",
       "      <td>0.78</td>\n",
       "      <td>2023-06-15</td>\n",
       "      <td>17:35:11</td>\n",
       "    </tr>\n",
       "    <tr>\n",
       "      <th>4</th>\n",
       "      <td>\"Just had the best meal of my life!\"</td>\n",
       "      <td>Positive</td>\n",
       "      <td>TripAdvisor</td>\n",
       "      <td>foodie22</td>\n",
       "      <td>Paris</td>\n",
       "      <td>0.88</td>\n",
       "      <td>2023-06-16</td>\n",
       "      <td>08:50:59</td>\n",
       "    </tr>\n",
       "    <tr>\n",
       "      <th>...</th>\n",
       "      <td>...</td>\n",
       "      <td>...</td>\n",
       "      <td>...</td>\n",
       "      <td>...</td>\n",
       "      <td>...</td>\n",
       "      <td>...</td>\n",
       "      <td>...</td>\n",
       "      <td>...</td>\n",
       "    </tr>\n",
       "    <tr>\n",
       "      <th>91</th>\n",
       "      <td>\"Just had the most amazing vacation! I can't w...</td>\n",
       "      <td>Positive</td>\n",
       "      <td>TripAdvisor</td>\n",
       "      <td>travelenthusiast1</td>\n",
       "      <td>Sydney</td>\n",
       "      <td>0.93</td>\n",
       "      <td>2023-07-02</td>\n",
       "      <td>18:01:23</td>\n",
       "    </tr>\n",
       "    <tr>\n",
       "      <th>92</th>\n",
       "      <td>\"The food at this restaurant was awful. Never ...</td>\n",
       "      <td>Negative</td>\n",
       "      <td>Zomato</td>\n",
       "      <td>foodlover123</td>\n",
       "      <td>Mumbai</td>\n",
       "      <td>0.55</td>\n",
       "      <td>2023-07-02</td>\n",
       "      <td>20:45:37</td>\n",
       "    </tr>\n",
       "    <tr>\n",
       "      <th>93</th>\n",
       "      <td>\"I can't stop listening to this song. It's my ...</td>\n",
       "      <td>Positive</td>\n",
       "      <td>Spotify</td>\n",
       "      <td>musiclover789</td>\n",
       "      <td>Berlin</td>\n",
       "      <td>0.91</td>\n",
       "      <td>2023-07-03</td>\n",
       "      <td>09:17:52</td>\n",
       "    </tr>\n",
       "    <tr>\n",
       "      <th>94</th>\n",
       "      <td>\"Their website is so confusing and poorly desi...</td>\n",
       "      <td>Negative</td>\n",
       "      <td>Website Review</td>\n",
       "      <td>user789</td>\n",
       "      <td>Toronto</td>\n",
       "      <td>0.68</td>\n",
       "      <td>2023-07-03</td>\n",
       "      <td>11:59:18</td>\n",
       "    </tr>\n",
       "    <tr>\n",
       "      <th>95</th>\n",
       "      <td>\"I had an incredible experience at the theme p...</td>\n",
       "      <td>Positive</td>\n",
       "      <td>Trip Report</td>\n",
       "      <td>thrillseeker1</td>\n",
       "      <td>Orlando</td>\n",
       "      <td>0.89</td>\n",
       "      <td>2023-07-03</td>\n",
       "      <td>14:40:05</td>\n",
       "    </tr>\n",
       "  </tbody>\n",
       "</table>\n",
       "<p>96 rows × 8 columns</p>\n",
       "</div>"
      ],
      "text/plain": [
       "                                                 Text Sentiment  \\\n",
       "0                              \"I love this product!\"  Positive   \n",
       "1                         \"The service was terrible.\"  Negative   \n",
       "2                            \"This movie is amazing!\"  Positive   \n",
       "3   \"I'm so disappointed with their customer suppo...  Negative   \n",
       "4                \"Just had the best meal of my life!\"  Positive   \n",
       "..                                                ...       ...   \n",
       "91  \"Just had the most amazing vacation! I can't w...  Positive   \n",
       "92  \"The food at this restaurant was awful. Never ...  Negative   \n",
       "93  \"I can't stop listening to this song. It's my ...  Positive   \n",
       "94  \"Their website is so confusing and poorly desi...  Negative   \n",
       "95  \"I had an incredible experience at the theme p...  Positive   \n",
       "\n",
       "            Source             UserID     Location  ConfidenceScore  \\\n",
       "0          Twitter           @user123     New York             0.85   \n",
       "1     Yelp Reviews            user456  Los Angeles             0.65   \n",
       "2             IMDb        moviefan789       London             0.92   \n",
       "3     Online Forum         forumuser1      Toronto             0.78   \n",
       "4      TripAdvisor           foodie22        Paris             0.88   \n",
       "..             ...                ...          ...              ...   \n",
       "91     TripAdvisor  travelenthusiast1       Sydney             0.93   \n",
       "92          Zomato       foodlover123       Mumbai             0.55   \n",
       "93         Spotify      musiclover789       Berlin             0.91   \n",
       "94  Website Review            user789      Toronto             0.68   \n",
       "95     Trip Report      thrillseeker1      Orlando             0.89   \n",
       "\n",
       "         Date      Time  \n",
       "0  2023-06-15  09:23:14  \n",
       "1  2023-06-15  11:45:32  \n",
       "2  2023-06-15  14:10:22  \n",
       "3  2023-06-15  17:35:11  \n",
       "4  2023-06-16  08:50:59  \n",
       "..        ...       ...  \n",
       "91 2023-07-02  18:01:23  \n",
       "92 2023-07-02  20:45:37  \n",
       "93 2023-07-03  09:17:52  \n",
       "94 2023-07-03  11:59:18  \n",
       "95 2023-07-03  14:40:05  \n",
       "\n",
       "[96 rows x 8 columns]"
      ]
     },
     "execution_count": 15,
     "metadata": {},
     "output_type": "execute_result"
    }
   ],
   "source": [
    "df"
   ]
  },
  {
   "cell_type": "code",
   "execution_count": 21,
   "metadata": {},
   "outputs": [
    {
     "data": {
      "text/plain": [
       "Text(0.5, 0, 'Number of Reviews')"
      ]
     },
     "execution_count": 21,
     "metadata": {},
     "output_type": "execute_result"
    },
    {
     "data": {
      "image/png": "[encoded data removed]",
      "text/plain": [
       "<Figure size 640x480 with 1 Axes>"
      ]
     },
     "metadata": {},
     "output_type": "display_data"
    }
   ],
   "source": [
    "sentiment = df['Sentiment'].value_counts().rename_axis('Sentiment').reset_index(name='counts')\n",
    "plt.barh(sentiment['Sentiment'], sentiment['counts'])\n",
    "plt.title(\"Sentiment of Online Reviews on Various Platforms\")\n",
    "plt.xlabel(\"Number of Reviews\")"
   ]
  }
 ],
 "metadata": {
  "kernelspec": {
   "display_name": "Python 3",
   "language": "python",
   "name": "python3"
  },
  "language_info": {
   "codemirror_mode": {
    "name": "ipython",
    "version": 3
   },
   "file_extension": ".py",
   "mimetype": "text/x-python",
   "name": "python",
   "nbconvert_exporter": "python",
   "pygments_lexer": "ipython3",
   "version": "3.12.3"
  }
 },
 "nbformat": 4,
 "nbformat_minor": 2
}
